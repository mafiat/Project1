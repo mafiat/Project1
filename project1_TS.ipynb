{
 "cells": [
  {
   "cell_type": "code",
   "execution_count": 6,
   "metadata": {},
   "outputs": [],
   "source": [
    "import json\n",
    "import requests\n",
    "from dotenv import load_dotenv\n",
    "import os\n",
    "\n",
    "load_dotenv()\n",
    "API_KEY = os.getenv(\"NASDAQ_DATA_LINK_API_KEY\")\n",
    "\n",
    "CLIENT_ID = os.getenv(\"TS_CLIENT_ID\")\n",
    "CLIENT_SECRET = os.getenv(\"TS_CLIENT_SECRET\")\n",
    "REFRESH_TOKEN = os.getenv(\"TS_REFRESH_TOKEN\")\n"
   ]
  },
  {
   "cell_type": "code",
   "execution_count": 2,
   "metadata": {},
   "outputs": [],
   "source": [
    "def get_access_token():\n",
    "    url = \"https://signin.tradestation.com/oauth/token\"\n",
    "\n",
    "    payload=f'grant_type=refresh_token&client_id={CLIENT_ID}&client_secret={CLIENT_SECRET}&refresh_token={REFRESH_TOKEN}'\n",
    "    headers = {\n",
    "      'Content-Type': 'application/x-www-form-urlencoded'\n",
    "    }\n",
    "\n",
    "    response = requests.request(\"POST\", url, headers=headers, data=payload)\n",
    "    response_data = response.json()\n",
    "    return response_data['access_token']"
   ]
  },
  {
   "cell_type": "code",
   "execution_count": 3,
   "metadata": {},
   "outputs": [
    {
     "name": "stdout",
     "output_type": "stream",
     "text": [
      "{\n",
      "    \"Bars\": [\n",
      "        {\n",
      "            \"High\": \"133.49\",\n",
      "            \"Low\": \"129.51\",\n",
      "            \"Open\": \"129.99\",\n",
      "            \"Close\": \"133.23\",\n",
      "            \"TimeStamp\": \"2025-01-13T21:00:00Z\",\n",
      "            \"TotalVolume\": \"204808914\",\n",
      "            \"DownTicks\": 946531,\n",
      "            \"DownVolume\": 113464760,\n",
      "            \"OpenInterest\": \"0\",\n",
      "            \"IsRealtime\": false,\n",
      "            \"IsEndOfHistory\": true,\n",
      "            \"TotalTicks\": 1885760,\n",
      "            \"UnchangedTicks\": 0,\n",
      "            \"UnchangedVolume\": 0,\n",
      "            \"UpTicks\": 939229,\n",
      "            \"UpVolume\": 91344153,\n",
      "            \"Epoch\": 1736802000000,\n",
      "            \"BarStatus\": \"Closed\"\n",
      "        }\n",
      "    ]\n",
      "}\n"
     ]
    }
   ],
   "source": [
    "url = \"https://api.tradestation.com/v3/marketdata/barcharts/NVDA?barsback=1&lastdate=2025-01-13\"\n",
    "access_token = get_access_token() # get a new access token\n",
    "\n",
    "headers = {'Authorization': f'Bearer {access_token}' }\n",
    "\n",
    "response = requests.request(\"GET\", url, headers=headers)\n",
    "json_data = response.json()\n",
    "print(json.dumps(json_data, indent=4, sort_keys=False))"
   ]
  }
 ],
 "metadata": {
  "kernelspec": {
   "display_name": "base",
   "language": "python",
   "name": "python3"
  },
  "language_info": {
   "codemirror_mode": {
    "name": "ipython",
    "version": 3
   },
   "file_extension": ".py",
   "mimetype": "text/x-python",
   "name": "python",
   "nbconvert_exporter": "python",
   "pygments_lexer": "ipython3",
   "version": "3.12.7"
  }
 },
 "nbformat": 4,
 "nbformat_minor": 2
}
